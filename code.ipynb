{
 "cells": [
  {
   "cell_type": "code",
   "execution_count": 4,
   "id": "0e8fd1ee",
   "metadata": {},
   "outputs": [
    {
     "data": {
      "text/plain": [
       "5.206896551724138"
      ]
     },
     "execution_count": 4,
     "metadata": {},
     "output_type": "execute_result"
    }
   ],
   "source": [
    "(5 * (10 - 4)**2) / (3**3 + 2) - 1"
   ]
  },
  {
   "cell_type": "code",
   "execution_count": 3,
   "id": "1e2ea007",
   "metadata": {},
   "outputs": [
    {
     "data": {
      "text/plain": [
       "10.0"
      ]
     },
     "execution_count": 3,
     "metadata": {},
     "output_type": "execute_result"
    }
   ],
   "source": [
    "((8 - 2)**2 + (11 - 3)**2)**0.5"
   ]
  },
  {
   "cell_type": "code",
   "execution_count": 2,
   "id": "0db379a3",
   "metadata": {},
   "outputs": [
    {
     "data": {
      "text/plain": [
       "7.55"
      ]
     },
     "execution_count": 2,
     "metadata": {},
     "output_type": "execute_result"
    }
   ],
   "source": [
    "(7.0 * 3 + 8.5 * 5 + 6.0 * 2) / (3 + 5 + 2)"
   ]
  }
 ],
 "metadata": {
  "kernelspec": {
   "display_name": "Python 3",
   "language": "python",
   "name": "python3"
  },
  "language_info": {
   "codemirror_mode": {
    "name": "ipython",
    "version": 3
   },
   "file_extension": ".py",
   "mimetype": "text/x-python",
   "name": "python",
   "nbconvert_exporter": "python",
   "pygments_lexer": "ipython3",
   "version": "3.12.1"
  }
 },
 "nbformat": 4,
 "nbformat_minor": 5
}
